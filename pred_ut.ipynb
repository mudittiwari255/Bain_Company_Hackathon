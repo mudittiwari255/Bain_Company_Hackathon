{
 "cells": [
  {
   "cell_type": "code",
   "execution_count": 1,
   "metadata": {},
   "outputs": [
    {
     "name": "stderr",
     "output_type": "stream",
     "text": [
      "C:\\ProgramData\\Anaconda3\\lib\\site-packages\\pandas\\core\\frame.py:7123: FutureWarning: Sorting because non-concatenation axis is not aligned. A future version\n",
      "of pandas will change to not sort by default.\n",
      "\n",
      "To accept the future behavior, pass 'sort=False'.\n",
      "\n",
      "To retain the current behavior and silence the warning, pass 'sort=True'.\n",
      "\n",
      "  sort=sort,\n"
     ]
    }
   ],
   "source": [
    "import pandas as pd \n",
    "import numpy as np \n",
    "from xgboost import XGBRegressor\n",
    "from sklearn.metrics import mean_squared_error\n",
    "from lightgbm import LGBMRegressor\n",
    "import lightgbm as lgb\n",
    "train_df = pd.read_csv('input/train.csv')\n",
    "test_df = pd.read_csv('input/test_QkPvNLx.csv')\n",
    "calender = pd.read_csv('calender_1.csv')\n",
    "\n",
    "all_df = train_df.append(test_df)\n",
    "\n",
    "all_df = all_df.merge(calender, how= 'left', on = 'Day_No')"
   ]
  },
  {
   "cell_type": "code",
   "execution_count": 2,
   "metadata": {},
   "outputs": [
    {
     "name": "stderr",
     "output_type": "stream",
     "text": [
      "C:\\ProgramData\\Anaconda3\\lib\\site-packages\\pandas\\core\\series.py:853: RuntimeWarning: invalid value encountered in log1p\n",
      "  result = getattr(ufunc, method)(*inputs, **kwargs)\n"
     ]
    }
   ],
   "source": [
    "all_df['User_Traffic'] = all_df.groupby('Course_ID')['User_Traffic'].transform(lambda x : x.rolling(7).mean())\n",
    "all_df['User_Traffic'] = np.log1p(all_df['User_Traffic'])\n",
    "pred_user_traffic = pd.Series(index = all_df.index, data = None)"
   ]
  },
  {
   "cell_type": "code",
   "execution_count": 10,
   "metadata": {
    "scrolled": false
   },
   "outputs": [
    {
     "name": "stderr",
     "output_type": "stream",
     "text": [
      "categorical_feature in Dataset is overridden.\n",
      "New categorical_feature is ['Course_Domain', 'Course_ID', 'Course_Type']\n"
     ]
    },
    {
     "name": "stdout",
     "output_type": "stream",
     "text": [
      "Done Till 942\n",
      "Entered OOT Phase\n"
     ]
    }
   ],
   "source": [
    "train_period = (0,60)\n",
    "pred_period = (61,120)\n",
    "\n",
    "## Some manual intervention required to make for OOT. \n",
    "\n",
    "while(True):\n",
    "    if pred_period[0] >= 942: continue\n",
    "    day_train_start = train_period[0]\n",
    "    day_train_end = train_period[1]\n",
    "    day_valid_start = pred_period[0]\n",
    "    day_valid_end = pred_period[1]\n",
    "    \n",
    "    tr = all_df.query(f\"(Day_No <= {day_train_end}) & (Day_No >= {day_train_start})\")\n",
    "    pred = all_df.query(f\"(Day_No <= {day_valid_end}) & (Day_No >= {day_valid_start})\")\n",
    "    \n",
    "    dtrain = lgb.Dataset(tr[trainCols], tr['User_Traffic'], free_raw_data=False, silent=True)\n",
    "    dvalid = lgb.Dataset(pred[trainCols], pred['User_Traffic'], free_raw_data=False, silent=True)\n",
    "    \n",
    "    lgb_params = {\n",
    "                'objective': 'regression',\n",
    "                'boosting_type': 'gbdt',\n",
    "                'learning_rate': .1,\n",
    "                'subsample': 0.8,\n",
    "                'colsample_bytree': 0.8,\n",
    "                'num_leaves': 31,\n",
    "                'max_depth': -1,\n",
    "                'seed': 13,\n",
    "                'n_jobs': 8,\n",
    "                'min_split_gain': .00001,\n",
    "                'reg_alpha': .00001,\n",
    "                'reg_lambda': .00001,\n",
    "                'metric': 'rmse'\n",
    "                }\n",
    "\n",
    "    # Fit the model\n",
    "    hist = lgb.train(\n",
    "                params=lgb_params, \n",
    "                train_set=dtrain,\n",
    "                valid_sets= [dtrain],\n",
    "                num_boost_round=3000,\n",
    "                categorical_feature=catCols,\n",
    "                early_stopping_rounds=100,\n",
    "                verbose_eval=0)\n",
    "    \n",
    "    prediction = hist.predict(pred[trainCols])\n",
    "    \n",
    "    try:\n",
    "        print(f\"RMSE : {mean_squared_error(pred['User_Traffic'], prediction)}\")\n",
    "    except:\n",
    "        print(f\"Done Till {pred_period[1]}\")\n",
    "        print(\"Entered OOT Phase\")\n",
    "        pred_user_traffic.iloc[pred.index] = prediction\n",
    "        break\n",
    "    \n",
    "    pred_user_traffic.iloc[pred.index] = prediction\n",
    "    \n",
    "    print(f\"Done Till {pred_period[1]}\")\n",
    "    train_period = (0, train_period[1] + 60)\n",
    "    pred_period = (train_period[1] + 1, train_period[1] + 60)"
   ]
  },
  {
   "cell_type": "code",
   "execution_count": null,
   "metadata": {},
   "outputs": [],
   "source": []
  },
  {
   "cell_type": "code",
   "execution_count": 11,
   "metadata": {},
   "outputs": [
    {
     "data": {
      "text/plain": [
       "0              NaN\n",
       "1              NaN\n",
       "2              NaN\n",
       "3              NaN\n",
       "4              NaN\n",
       "            ...   \n",
       "548082    8.957769\n",
       "548083    8.964530\n",
       "548084    9.057988\n",
       "548085    9.111396\n",
       "548086    9.098207\n",
       "Length: 548087, dtype: float64"
      ]
     },
     "execution_count": 11,
     "metadata": {},
     "output_type": "execute_result"
    }
   ],
   "source": [
    "pred_user_traffic"
   ]
  },
  {
   "cell_type": "code",
   "execution_count": 12,
   "metadata": {},
   "outputs": [],
   "source": [
    "temp = all_df[['ID', 'Course_ID','User_Traffic']]"
   ]
  },
  {
   "cell_type": "code",
   "execution_count": 13,
   "metadata": {},
   "outputs": [
    {
     "name": "stderr",
     "output_type": "stream",
     "text": [
      "\n",
      "A value is trying to be set on a copy of a slice from a DataFrame.\n",
      "Try using .loc[row_indexer,col_indexer] = value instead\n",
      "\n",
      "See the caveats in the documentation: https://pandas.pydata.org/pandas-docs/stable/user_guide/indexing.html#returning-a-view-versus-a-copy\n"
     ]
    }
   ],
   "source": [
    "temp['User_Traffic_rolled_predicted'] = pred_user_traffic"
   ]
  },
  {
   "cell_type": "code",
   "execution_count": 14,
   "metadata": {},
   "outputs": [],
   "source": [
    "temp_cid = temp.query('Course_ID == 544')"
   ]
  },
  {
   "cell_type": "code",
   "execution_count": null,
   "metadata": {},
   "outputs": [],
   "source": []
  },
  {
   "cell_type": "code",
   "execution_count": 15,
   "metadata": {},
   "outputs": [],
   "source": [
    "temp.to_csv('user_traffic_pred.csv', index = False)"
   ]
  }
 ],
 "metadata": {
  "kernelspec": {
   "display_name": "Python 3",
   "language": "python",
   "name": "python3"
  },
  "language_info": {
   "codemirror_mode": {
    "name": "ipython",
    "version": 3
   },
   "file_extension": ".py",
   "mimetype": "text/x-python",
   "name": "python",
   "nbconvert_exporter": "python",
   "pygments_lexer": "ipython3",
   "version": "3.7.4"
  }
 },
 "nbformat": 4,
 "nbformat_minor": 2
}
