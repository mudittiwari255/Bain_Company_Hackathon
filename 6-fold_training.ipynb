{
 "cells": [
  {
   "cell_type": "code",
   "execution_count": 1,
   "metadata": {
    "scrolled": false
   },
   "outputs": [
    {
     "name": "stderr",
     "output_type": "stream",
     "text": [
      "C:\\ProgramData\\Anaconda3\\lib\\site-packages\\pandas\\core\\frame.py:7123: FutureWarning: Sorting because non-concatenation axis is not aligned. A future version\n",
      "of pandas will change to not sort by default.\n",
      "\n",
      "To accept the future behavior, pass 'sort=False'.\n",
      "\n",
      "To retain the current behavior and silence the warning, pass 'sort=True'.\n",
      "\n",
      "  sort=sort,\n"
     ]
    }
   ],
   "source": [
    "import pandas as pd \n",
    "import numpy as np \n",
    "from xgboost import XGBRegressor\n",
    "from sklearn.metrics import mean_squared_error\n",
    "from lightgbm import LGBMRegressor\n",
    "import lightgbm as lgb\n",
    "train_df = pd.read_csv('input/train.csv')\n",
    "test_df = pd.read_csv('input/test_QkPvNLx.csv')\n",
    "calender = pd.read_csv('calender_1.csv')\n",
    "\n",
    "all_df = train_df.append(test_df)\n",
    "\n",
    "all_df = all_df.merge(calender, how= 'left', on = 'Day_No')"
   ]
  },
  {
   "cell_type": "code",
   "execution_count": 2,
   "metadata": {},
   "outputs": [],
   "source": [
    "med_feats= pd.read_csv('fib_med_feats.csv')"
   ]
  },
  {
   "cell_type": "code",
   "execution_count": 3,
   "metadata": {},
   "outputs": [],
   "source": [
    "from scipy.stats import hmean, gmean"
   ]
  },
  {
   "cell_type": "code",
   "execution_count": 4,
   "metadata": {},
   "outputs": [],
   "source": [
    "med_feats['hmean_median'] = hmean(med_feats[[ 'Sales_median_0_1',\n",
    "                                 'Sales_median_0_2',\n",
    "                                 'Sales_median_0_3',\n",
    "                                 'Sales_median_0_5',\n",
    "                                 'Sales_median_0_8',\n",
    "                                 'Sales_median_0_13',\n",
    "                                 'Sales_median_0_21']].fillna(0.000000000000000001), axis = 1)\n",
    "med_feats['hmean_mean'] = hmean(med_feats[[\n",
    "                            'Sales_mean_0_1',\n",
    "                                 'Sales_mean_0_2',\n",
    "                                 'Sales_mean_0_3',\n",
    "                                 'Sales_mean_0_5',\n",
    "                                 'Sales_mean_0_8',\n",
    "                                 'Sales_mean_0_13',\n",
    "                                 'Sales_mean_0_21'\n",
    "                                ]].fillna(.000000000000000001), axis = 1)\n",
    "med_feats['gmean_median'] = gmean(med_feats[[ 'Sales_median_0_1',\n",
    "                                 'Sales_median_0_2',\n",
    "                                 'Sales_median_0_3',\n",
    "                                 'Sales_median_0_5',\n",
    "                                 'Sales_median_0_8',\n",
    "                                 'Sales_median_0_13',\n",
    "                                 'Sales_median_0_21']].fillna(0.000000000000000001), axis = 1)\n",
    "med_feats['gmean_mean'] = gmean(med_feats[[\n",
    "                            'Sales_mean_0_1',\n",
    "                                 'Sales_mean_0_2',\n",
    "                                 'Sales_mean_0_3',\n",
    "                                 'Sales_mean_0_5',\n",
    "                                 'Sales_mean_0_8',\n",
    "                                 'Sales_mean_0_13',\n",
    "                                 'Sales_mean_0_21'\n",
    "                                ]].fillna(.000000000000000001), axis = 1)\n",
    "med_feats['mean_median'] = np.mean(med_feats[[ 'Sales_median_0_1',\n",
    "                                 'Sales_median_0_2',\n",
    "                                 'Sales_median_0_3',\n",
    "                                 'Sales_median_0_5',\n",
    "                                 'Sales_median_0_8',\n",
    "                                 'Sales_median_0_13',\n",
    "                                 'Sales_median_0_21']].fillna(0.000000000000000001), axis = 1)\n",
    "med_feats['mean_mean'] = np.mean(med_feats[[\n",
    "                            'Sales_mean_0_1',\n",
    "                                 'Sales_mean_0_2',\n",
    "                                 'Sales_mean_0_3',\n",
    "                                 'Sales_mean_0_5',\n",
    "                                 'Sales_mean_0_8',\n",
    "                                 'Sales_mean_0_13',\n",
    "                                 'Sales_mean_0_21'\n",
    "                                ]].fillna(.000000000000000001), axis = 1)\n",
    "\n",
    "med_feats['median_of_median'] = np.median(med_feats[[ 'Sales_median_0_1',\n",
    "                                 'Sales_median_0_2',\n",
    "                                 'Sales_median_0_3',\n",
    "                                 'Sales_median_0_5',\n",
    "                                 'Sales_median_0_8',\n",
    "                                 'Sales_median_0_13',\n",
    "                                 'Sales_median_0_21']].fillna(0.000000000000000001), axis = 1)"
   ]
  },
  {
   "cell_type": "code",
   "execution_count": 16,
   "metadata": {},
   "outputs": [
    {
     "data": {
      "text/html": [
       "<div>\n",
       "<style scoped>\n",
       "    .dataframe tbody tr th:only-of-type {\n",
       "        vertical-align: middle;\n",
       "    }\n",
       "\n",
       "    .dataframe tbody tr th {\n",
       "        vertical-align: top;\n",
       "    }\n",
       "\n",
       "    .dataframe thead th {\n",
       "        text-align: right;\n",
       "    }\n",
       "</style>\n",
       "<table border=\"1\" class=\"dataframe\">\n",
       "  <thead>\n",
       "    <tr style=\"text-align: right;\">\n",
       "      <th></th>\n",
       "      <th>Sales_median_60_lag</th>\n",
       "      <th>Sales_mean_60_lag</th>\n",
       "      <th>Sales_mean_0_1</th>\n",
       "      <th>Sales_median_0_1</th>\n",
       "      <th>Sales_mean_0_2</th>\n",
       "      <th>Sales_median_0_2</th>\n",
       "      <th>Sales_mean_0_3</th>\n",
       "      <th>Sales_median_0_3</th>\n",
       "      <th>Sales_mean_0_5</th>\n",
       "      <th>Sales_median_0_5</th>\n",
       "      <th>...</th>\n",
       "      <th>Sales_mean_0_21</th>\n",
       "      <th>Sales_median_0_21</th>\n",
       "      <th>ID</th>\n",
       "      <th>hmean_median</th>\n",
       "      <th>hmean_mean</th>\n",
       "      <th>gmean_median</th>\n",
       "      <th>gmean_mean</th>\n",
       "      <th>mean_median</th>\n",
       "      <th>mean_mean</th>\n",
       "      <th>median_of_median</th>\n",
       "    </tr>\n",
       "  </thead>\n",
       "  <tbody>\n",
       "    <tr>\n",
       "      <td>0</td>\n",
       "      <td>81.0</td>\n",
       "      <td>81.000000</td>\n",
       "      <td>NaN</td>\n",
       "      <td>NaN</td>\n",
       "      <td>NaN</td>\n",
       "      <td>NaN</td>\n",
       "      <td>NaN</td>\n",
       "      <td>NaN</td>\n",
       "      <td>NaN</td>\n",
       "      <td>NaN</td>\n",
       "      <td>...</td>\n",
       "      <td>NaN</td>\n",
       "      <td>NaN</td>\n",
       "      <td>1</td>\n",
       "      <td>1.000000e-18</td>\n",
       "      <td>1.000000e-18</td>\n",
       "      <td>1.000000e-18</td>\n",
       "      <td>1.000000e-18</td>\n",
       "      <td>1.000000e-18</td>\n",
       "      <td>1.000000e-18</td>\n",
       "      <td>1.000000e-18</td>\n",
       "    </tr>\n",
       "    <tr>\n",
       "      <td>1</td>\n",
       "      <td>80.0</td>\n",
       "      <td>80.000000</td>\n",
       "      <td>NaN</td>\n",
       "      <td>NaN</td>\n",
       "      <td>NaN</td>\n",
       "      <td>NaN</td>\n",
       "      <td>NaN</td>\n",
       "      <td>NaN</td>\n",
       "      <td>NaN</td>\n",
       "      <td>NaN</td>\n",
       "      <td>...</td>\n",
       "      <td>NaN</td>\n",
       "      <td>NaN</td>\n",
       "      <td>2</td>\n",
       "      <td>1.000000e-18</td>\n",
       "      <td>1.000000e-18</td>\n",
       "      <td>1.000000e-18</td>\n",
       "      <td>1.000000e-18</td>\n",
       "      <td>1.000000e-18</td>\n",
       "      <td>1.000000e-18</td>\n",
       "      <td>1.000000e-18</td>\n",
       "    </tr>\n",
       "    <tr>\n",
       "      <td>2</td>\n",
       "      <td>79.0</td>\n",
       "      <td>78.333333</td>\n",
       "      <td>NaN</td>\n",
       "      <td>NaN</td>\n",
       "      <td>NaN</td>\n",
       "      <td>NaN</td>\n",
       "      <td>NaN</td>\n",
       "      <td>NaN</td>\n",
       "      <td>NaN</td>\n",
       "      <td>NaN</td>\n",
       "      <td>...</td>\n",
       "      <td>NaN</td>\n",
       "      <td>NaN</td>\n",
       "      <td>3</td>\n",
       "      <td>1.000000e-18</td>\n",
       "      <td>1.000000e-18</td>\n",
       "      <td>1.000000e-18</td>\n",
       "      <td>1.000000e-18</td>\n",
       "      <td>1.000000e-18</td>\n",
       "      <td>1.000000e-18</td>\n",
       "      <td>1.000000e-18</td>\n",
       "    </tr>\n",
       "    <tr>\n",
       "      <td>3</td>\n",
       "      <td>79.5</td>\n",
       "      <td>78.750000</td>\n",
       "      <td>NaN</td>\n",
       "      <td>NaN</td>\n",
       "      <td>NaN</td>\n",
       "      <td>NaN</td>\n",
       "      <td>NaN</td>\n",
       "      <td>NaN</td>\n",
       "      <td>NaN</td>\n",
       "      <td>NaN</td>\n",
       "      <td>...</td>\n",
       "      <td>NaN</td>\n",
       "      <td>NaN</td>\n",
       "      <td>4</td>\n",
       "      <td>1.000000e-18</td>\n",
       "      <td>1.000000e-18</td>\n",
       "      <td>1.000000e-18</td>\n",
       "      <td>1.000000e-18</td>\n",
       "      <td>1.000000e-18</td>\n",
       "      <td>1.000000e-18</td>\n",
       "      <td>1.000000e-18</td>\n",
       "    </tr>\n",
       "    <tr>\n",
       "      <td>4</td>\n",
       "      <td>79.0</td>\n",
       "      <td>71.200000</td>\n",
       "      <td>NaN</td>\n",
       "      <td>NaN</td>\n",
       "      <td>NaN</td>\n",
       "      <td>NaN</td>\n",
       "      <td>NaN</td>\n",
       "      <td>NaN</td>\n",
       "      <td>NaN</td>\n",
       "      <td>NaN</td>\n",
       "      <td>...</td>\n",
       "      <td>NaN</td>\n",
       "      <td>NaN</td>\n",
       "      <td>5</td>\n",
       "      <td>1.000000e-18</td>\n",
       "      <td>1.000000e-18</td>\n",
       "      <td>1.000000e-18</td>\n",
       "      <td>1.000000e-18</td>\n",
       "      <td>1.000000e-18</td>\n",
       "      <td>1.000000e-18</td>\n",
       "      <td>1.000000e-18</td>\n",
       "    </tr>\n",
       "    <tr>\n",
       "      <td>...</td>\n",
       "      <td>...</td>\n",
       "      <td>...</td>\n",
       "      <td>...</td>\n",
       "      <td>...</td>\n",
       "      <td>...</td>\n",
       "      <td>...</td>\n",
       "      <td>...</td>\n",
       "      <td>...</td>\n",
       "      <td>...</td>\n",
       "      <td>...</td>\n",
       "      <td>...</td>\n",
       "      <td>...</td>\n",
       "      <td>...</td>\n",
       "      <td>...</td>\n",
       "      <td>...</td>\n",
       "      <td>...</td>\n",
       "      <td>...</td>\n",
       "      <td>...</td>\n",
       "      <td>...</td>\n",
       "      <td>...</td>\n",
       "      <td>...</td>\n",
       "    </tr>\n",
       "    <tr>\n",
       "      <td>548082</td>\n",
       "      <td>107.0</td>\n",
       "      <td>109.045558</td>\n",
       "      <td>127.000000</td>\n",
       "      <td>121.0</td>\n",
       "      <td>129.000000</td>\n",
       "      <td>135.0</td>\n",
       "      <td>124.571429</td>\n",
       "      <td>125.0</td>\n",
       "      <td>131.000000</td>\n",
       "      <td>132.0</td>\n",
       "      <td>...</td>\n",
       "      <td>123.353741</td>\n",
       "      <td>126.0</td>\n",
       "      <td>548083</td>\n",
       "      <td>1.280678e+02</td>\n",
       "      <td>1.266845e+02</td>\n",
       "      <td>1.281411e+02</td>\n",
       "      <td>1.267084e+02</td>\n",
       "      <td>1.282143e+02</td>\n",
       "      <td>1.267324e+02</td>\n",
       "      <td>1.285000e+02</td>\n",
       "    </tr>\n",
       "    <tr>\n",
       "      <td>548083</td>\n",
       "      <td>107.0</td>\n",
       "      <td>109.086462</td>\n",
       "      <td>126.000000</td>\n",
       "      <td>121.0</td>\n",
       "      <td>129.571429</td>\n",
       "      <td>135.0</td>\n",
       "      <td>125.523810</td>\n",
       "      <td>132.0</td>\n",
       "      <td>132.428571</td>\n",
       "      <td>133.0</td>\n",
       "      <td>...</td>\n",
       "      <td>123.414966</td>\n",
       "      <td>126.0</td>\n",
       "      <td>548084</td>\n",
       "      <td>1.292053e+02</td>\n",
       "      <td>1.269824e+02</td>\n",
       "      <td>1.292818e+02</td>\n",
       "      <td>1.270133e+02</td>\n",
       "      <td>1.293571e+02</td>\n",
       "      <td>1.270444e+02</td>\n",
       "      <td>1.300000e+02</td>\n",
       "    </tr>\n",
       "    <tr>\n",
       "      <td>548084</td>\n",
       "      <td>107.0</td>\n",
       "      <td>109.152273</td>\n",
       "      <td>129.285714</td>\n",
       "      <td>121.0</td>\n",
       "      <td>131.000000</td>\n",
       "      <td>135.0</td>\n",
       "      <td>126.190476</td>\n",
       "      <td>132.0</td>\n",
       "      <td>133.285714</td>\n",
       "      <td>133.0</td>\n",
       "      <td>...</td>\n",
       "      <td>123.761905</td>\n",
       "      <td>126.0</td>\n",
       "      <td>548085</td>\n",
       "      <td>1.292053e+02</td>\n",
       "      <td>1.278657e+02</td>\n",
       "      <td>1.292818e+02</td>\n",
       "      <td>1.279051e+02</td>\n",
       "      <td>1.293571e+02</td>\n",
       "      <td>1.279447e+02</td>\n",
       "      <td>1.300000e+02</td>\n",
       "    </tr>\n",
       "    <tr>\n",
       "      <td>548085</td>\n",
       "      <td>107.0</td>\n",
       "      <td>109.149830</td>\n",
       "      <td>125.571429</td>\n",
       "      <td>114.0</td>\n",
       "      <td>132.357143</td>\n",
       "      <td>135.0</td>\n",
       "      <td>125.476190</td>\n",
       "      <td>132.0</td>\n",
       "      <td>133.914286</td>\n",
       "      <td>133.0</td>\n",
       "      <td>...</td>\n",
       "      <td>123.972789</td>\n",
       "      <td>126.0</td>\n",
       "      <td>548086</td>\n",
       "      <td>1.277915e+02</td>\n",
       "      <td>1.273920e+02</td>\n",
       "      <td>1.279710e+02</td>\n",
       "      <td>1.274467e+02</td>\n",
       "      <td>1.281429e+02</td>\n",
       "      <td>1.275021e+02</td>\n",
       "      <td>1.300000e+02</td>\n",
       "    </tr>\n",
       "    <tr>\n",
       "      <td>548086</td>\n",
       "      <td>107.0</td>\n",
       "      <td>109.198413</td>\n",
       "      <td>131.000000</td>\n",
       "      <td>121.0</td>\n",
       "      <td>132.000000</td>\n",
       "      <td>135.0</td>\n",
       "      <td>128.428571</td>\n",
       "      <td>133.0</td>\n",
       "      <td>133.000000</td>\n",
       "      <td>133.0</td>\n",
       "      <td>...</td>\n",
       "      <td>123.891156</td>\n",
       "      <td>126.0</td>\n",
       "      <td>548087</td>\n",
       "      <td>1.293413e+02</td>\n",
       "      <td>1.286893e+02</td>\n",
       "      <td>1.294213e+02</td>\n",
       "      <td>1.287276e+02</td>\n",
       "      <td>1.295000e+02</td>\n",
       "      <td>1.287658e+02</td>\n",
       "      <td>1.300000e+02</td>\n",
       "    </tr>\n",
       "  </tbody>\n",
       "</table>\n",
       "<p>548087 rows × 24 columns</p>\n",
       "</div>"
      ],
      "text/plain": [
       "        Sales_median_60_lag  Sales_mean_60_lag  Sales_mean_0_1  \\\n",
       "0                      81.0          81.000000             NaN   \n",
       "1                      80.0          80.000000             NaN   \n",
       "2                      79.0          78.333333             NaN   \n",
       "3                      79.5          78.750000             NaN   \n",
       "4                      79.0          71.200000             NaN   \n",
       "...                     ...                ...             ...   \n",
       "548082                107.0         109.045558      127.000000   \n",
       "548083                107.0         109.086462      126.000000   \n",
       "548084                107.0         109.152273      129.285714   \n",
       "548085                107.0         109.149830      125.571429   \n",
       "548086                107.0         109.198413      131.000000   \n",
       "\n",
       "        Sales_median_0_1  Sales_mean_0_2  Sales_median_0_2  Sales_mean_0_3  \\\n",
       "0                    NaN             NaN               NaN             NaN   \n",
       "1                    NaN             NaN               NaN             NaN   \n",
       "2                    NaN             NaN               NaN             NaN   \n",
       "3                    NaN             NaN               NaN             NaN   \n",
       "4                    NaN             NaN               NaN             NaN   \n",
       "...                  ...             ...               ...             ...   \n",
       "548082             121.0      129.000000             135.0      124.571429   \n",
       "548083             121.0      129.571429             135.0      125.523810   \n",
       "548084             121.0      131.000000             135.0      126.190476   \n",
       "548085             114.0      132.357143             135.0      125.476190   \n",
       "548086             121.0      132.000000             135.0      128.428571   \n",
       "\n",
       "        Sales_median_0_3  Sales_mean_0_5  Sales_median_0_5  ...  \\\n",
       "0                    NaN             NaN               NaN  ...   \n",
       "1                    NaN             NaN               NaN  ...   \n",
       "2                    NaN             NaN               NaN  ...   \n",
       "3                    NaN             NaN               NaN  ...   \n",
       "4                    NaN             NaN               NaN  ...   \n",
       "...                  ...             ...               ...  ...   \n",
       "548082             125.0      131.000000             132.0  ...   \n",
       "548083             132.0      132.428571             133.0  ...   \n",
       "548084             132.0      133.285714             133.0  ...   \n",
       "548085             132.0      133.914286             133.0  ...   \n",
       "548086             133.0      133.000000             133.0  ...   \n",
       "\n",
       "        Sales_mean_0_21  Sales_median_0_21      ID  hmean_median  \\\n",
       "0                   NaN                NaN       1  1.000000e-18   \n",
       "1                   NaN                NaN       2  1.000000e-18   \n",
       "2                   NaN                NaN       3  1.000000e-18   \n",
       "3                   NaN                NaN       4  1.000000e-18   \n",
       "4                   NaN                NaN       5  1.000000e-18   \n",
       "...                 ...                ...     ...           ...   \n",
       "548082       123.353741              126.0  548083  1.280678e+02   \n",
       "548083       123.414966              126.0  548084  1.292053e+02   \n",
       "548084       123.761905              126.0  548085  1.292053e+02   \n",
       "548085       123.972789              126.0  548086  1.277915e+02   \n",
       "548086       123.891156              126.0  548087  1.293413e+02   \n",
       "\n",
       "          hmean_mean  gmean_median    gmean_mean   mean_median     mean_mean  \\\n",
       "0       1.000000e-18  1.000000e-18  1.000000e-18  1.000000e-18  1.000000e-18   \n",
       "1       1.000000e-18  1.000000e-18  1.000000e-18  1.000000e-18  1.000000e-18   \n",
       "2       1.000000e-18  1.000000e-18  1.000000e-18  1.000000e-18  1.000000e-18   \n",
       "3       1.000000e-18  1.000000e-18  1.000000e-18  1.000000e-18  1.000000e-18   \n",
       "4       1.000000e-18  1.000000e-18  1.000000e-18  1.000000e-18  1.000000e-18   \n",
       "...              ...           ...           ...           ...           ...   \n",
       "548082  1.266845e+02  1.281411e+02  1.267084e+02  1.282143e+02  1.267324e+02   \n",
       "548083  1.269824e+02  1.292818e+02  1.270133e+02  1.293571e+02  1.270444e+02   \n",
       "548084  1.278657e+02  1.292818e+02  1.279051e+02  1.293571e+02  1.279447e+02   \n",
       "548085  1.273920e+02  1.279710e+02  1.274467e+02  1.281429e+02  1.275021e+02   \n",
       "548086  1.286893e+02  1.294213e+02  1.287276e+02  1.295000e+02  1.287658e+02   \n",
       "\n",
       "        median_of_median  \n",
       "0           1.000000e-18  \n",
       "1           1.000000e-18  \n",
       "2           1.000000e-18  \n",
       "3           1.000000e-18  \n",
       "4           1.000000e-18  \n",
       "...                  ...  \n",
       "548082      1.285000e+02  \n",
       "548083      1.300000e+02  \n",
       "548084      1.300000e+02  \n",
       "548085      1.300000e+02  \n",
       "548086      1.300000e+02  \n",
       "\n",
       "[548087 rows x 24 columns]"
      ]
     },
     "execution_count": 16,
     "metadata": {},
     "output_type": "execute_result"
    }
   ],
   "source": [
    "med_feats"
   ]
  },
  {
   "cell_type": "code",
   "execution_count": 6,
   "metadata": {},
   "outputs": [],
   "source": [
    "all_df = all_df.merge(med_feats[['ID', 'hmean_median', 'hmean_mean', 'gmean_median',\n",
    "       'gmean_mean', 'mean_median', 'mean_mean', 'median_of_median']], on = 'ID', how = 'left')"
   ]
  },
  {
   "cell_type": "code",
   "execution_count": 7,
   "metadata": {},
   "outputs": [
    {
     "name": "stderr",
     "output_type": "stream",
     "text": [
      "C:\\ProgramData\\Anaconda3\\lib\\site-packages\\pandas\\core\\series.py:853: RuntimeWarning: invalid value encountered in log1p\n",
      "  result = getattr(ufunc, method)(*inputs, **kwargs)\n"
     ]
    }
   ],
   "source": [
    "all_df['Sales'] = np.log1p(all_df['Sales'])"
   ]
  },
  {
   "cell_type": "code",
   "execution_count": 8,
   "metadata": {},
   "outputs": [],
   "source": [
    "ut = pd.read_csv('user_traffic_pred.csv')"
   ]
  },
  {
   "cell_type": "code",
   "execution_count": 9,
   "metadata": {},
   "outputs": [
    {
     "data": {
      "text/plain": [
       "Index(['ID', 'Course_ID', 'User_Traffic', 'User_Traffic_rolled_predicted'], dtype='object')"
      ]
     },
     "execution_count": 9,
     "metadata": {},
     "output_type": "execute_result"
    }
   ],
   "source": [
    "ut.columns"
   ]
  },
  {
   "cell_type": "code",
   "execution_count": 10,
   "metadata": {},
   "outputs": [],
   "source": [
    "all_df = all_df.merge(ut[['ID', 'User_Traffic_rolled_predicted']], on = 'ID', how = 'left')"
   ]
  },
  {
   "cell_type": "code",
   "execution_count": 11,
   "metadata": {},
   "outputs": [],
   "source": [
    "folds = [[(1,517),(518, 577)],\n",
    " [(1,577),(578, 638)],\n",
    " [(1,638), (639, 699)],\n",
    " [(1, 699), (700, 761)],\n",
    " [(1, 761), (762, 820)],\n",
    " [(1,820), (821, 882)]]\n",
    "\n",
    "reject_cols = ['ID', 'Day_No', 'date' , 'Sales', 'User_Traffic']\n",
    "catCols = ['Course_ID', 'Course_Type', 'Course_Domain']\n",
    "trainCols = [x for x in all_df.columns if x not in reject_cols]\n",
    "target = 'Sales'"
   ]
  },
  {
   "cell_type": "code",
   "execution_count": 12,
   "metadata": {},
   "outputs": [],
   "source": [
    "for c in catCols:\n",
    "    all_df[c] = all_df[c].astype('category')"
   ]
  },
  {
   "cell_type": "code",
   "execution_count": 13,
   "metadata": {},
   "outputs": [],
   "source": [
    "def fold_gen(all_df):\n",
    "    for f in folds:\n",
    "        tr_f_l, tr_f_u = f[0][0], f[0][1]\n",
    "        va_f_l, va_f_u = f[1][0], f[1][1]\n",
    "        trPart = all_df[(all_df.Day_No <= tr_f_u) & (all_df.Day_No >= tr_f_l)]\n",
    "        vaPart = all_df[(all_df.Day_No <= va_f_u) & (all_df.Day_No >= va_f_l)]\n",
    "        yield trPart, vaPart"
   ]
  },
  {
   "cell_type": "code",
   "execution_count": 22,
   "metadata": {
    "scrolled": false
   },
   "outputs": [
    {
     "name": "stdout",
     "output_type": "stream",
     "text": [
      "Training for fold 0\n"
     ]
    },
    {
     "name": "stderr",
     "output_type": "stream",
     "text": [
      "C:\\ProgramData\\Anaconda3\\lib\\site-packages\\lightgbm\\basic.py:1295: UserWarning: categorical_feature in Dataset is overridden.\n",
      "New categorical_feature is ['Course_Domain', 'Course_ID', 'Course_Type']\n",
      "  'New categorical_feature is {}'.format(sorted(list(categorical_feature))))\n"
     ]
    },
    {
     "name": "stdout",
     "output_type": "stream",
     "text": [
      "Training until validation scores don't improve for 100 rounds\n",
      "[100]\ttraining's rmse: 0.140844\tvalid_1's rmse: 0.150664\n",
      "[200]\ttraining's rmse: 0.122907\tvalid_1's rmse: 0.143789\n",
      "[300]\ttraining's rmse: 0.113855\tvalid_1's rmse: 0.141249\n",
      "[400]\ttraining's rmse: 0.107934\tvalid_1's rmse: 0.139415\n",
      "[500]\ttraining's rmse: 0.103268\tvalid_1's rmse: 0.138198\n",
      "[600]\ttraining's rmse: 0.0994976\tvalid_1's rmse: 0.137736\n",
      "[700]\ttraining's rmse: 0.0966857\tvalid_1's rmse: 0.13754\n",
      "Early stopping, best iteration is:\n",
      "[680]\ttraining's rmse: 0.0971602\tvalid_1's rmse: 0.137268\n",
      "Training for fold 1\n",
      "Training until validation scores don't improve for 100 rounds\n",
      "[100]\ttraining's rmse: 0.138741\tvalid_1's rmse: 0.137714\n",
      "[200]\ttraining's rmse: 0.120731\tvalid_1's rmse: 0.132422\n",
      "[300]\ttraining's rmse: 0.112394\tvalid_1's rmse: 0.132905\n",
      "Early stopping, best iteration is:\n",
      "[230]\ttraining's rmse: 0.117553\tvalid_1's rmse: 0.132008\n",
      "Training for fold 2\n",
      "Training until validation scores don't improve for 100 rounds\n",
      "[100]\ttraining's rmse: 0.13801\tvalid_1's rmse: 0.14208\n",
      "[200]\ttraining's rmse: 0.12207\tvalid_1's rmse: 0.136742\n",
      "[300]\ttraining's rmse: 0.113975\tvalid_1's rmse: 0.133943\n",
      "[400]\ttraining's rmse: 0.108919\tvalid_1's rmse: 0.132973\n",
      "[500]\ttraining's rmse: 0.10541\tvalid_1's rmse: 0.132759\n",
      "Early stopping, best iteration is:\n",
      "[457]\ttraining's rmse: 0.106801\tvalid_1's rmse: 0.132177\n",
      "Training for fold 3\n",
      "Training until validation scores don't improve for 100 rounds\n",
      "[100]\ttraining's rmse: 0.13819\tvalid_1's rmse: 0.394444\n",
      "[200]\ttraining's rmse: 0.122922\tvalid_1's rmse: 0.392084\n",
      "[300]\ttraining's rmse: 0.115481\tvalid_1's rmse: 0.391212\n",
      "[400]\ttraining's rmse: 0.110599\tvalid_1's rmse: 0.390459\n",
      "[500]\ttraining's rmse: 0.106154\tvalid_1's rmse: 0.389609\n",
      "[600]\ttraining's rmse: 0.101784\tvalid_1's rmse: 0.38951\n",
      "[700]\ttraining's rmse: 0.0989968\tvalid_1's rmse: 0.388895\n",
      "[800]\ttraining's rmse: 0.0964005\tvalid_1's rmse: 0.388235\n",
      "[900]\ttraining's rmse: 0.0940665\tvalid_1's rmse: 0.388063\n",
      "Early stopping, best iteration is:\n",
      "[891]\ttraining's rmse: 0.0942101\tvalid_1's rmse: 0.387971\n",
      "Training for fold 4\n",
      "Training until validation scores don't improve for 100 rounds\n",
      "[100]\ttraining's rmse: 0.144065\tvalid_1's rmse: 0.157234\n",
      "[200]\ttraining's rmse: 0.127102\tvalid_1's rmse: 0.149504\n",
      "[300]\ttraining's rmse: 0.119246\tvalid_1's rmse: 0.14648\n",
      "[400]\ttraining's rmse: 0.114762\tvalid_1's rmse: 0.146685\n",
      "[500]\ttraining's rmse: 0.110709\tvalid_1's rmse: 0.145041\n",
      "[600]\ttraining's rmse: 0.10746\tvalid_1's rmse: 0.144773\n",
      "[700]\ttraining's rmse: 0.104539\tvalid_1's rmse: 0.144001\n",
      "[800]\ttraining's rmse: 0.101749\tvalid_1's rmse: 0.143118\n",
      "[900]\ttraining's rmse: 0.100231\tvalid_1's rmse: 0.142884\n",
      "[1000]\ttraining's rmse: 0.0982093\tvalid_1's rmse: 0.142557\n",
      "[1100]\ttraining's rmse: 0.096485\tvalid_1's rmse: 0.142316\n",
      "Early stopping, best iteration is:\n",
      "[1080]\ttraining's rmse: 0.0967649\tvalid_1's rmse: 0.142281\n",
      "Training for fold 5\n",
      "Training until validation scores don't improve for 100 rounds\n",
      "[100]\ttraining's rmse: 0.1436\tvalid_1's rmse: 0.17625\n",
      "[200]\ttraining's rmse: 0.126507\tvalid_1's rmse: 0.168782\n",
      "[300]\ttraining's rmse: 0.117643\tvalid_1's rmse: 0.167589\n",
      "Early stopping, best iteration is:\n",
      "[275]\ttraining's rmse: 0.119389\tvalid_1's rmse: 0.16706\n"
     ]
    }
   ],
   "source": [
    "train_res = []\n",
    "valid_res = []\n",
    "\n",
    "for i, (train, valid) in enumerate(fold_gen(all_df)):\n",
    "    print(f\"Training for fold {i}\")\n",
    "    dtrain = lgb.Dataset(train[trainCols], train[target], free_raw_data=False, silent=True)\n",
    "    dvalid = lgb.Dataset(valid[trainCols], valid[target], free_raw_data=False, silent = True)\n",
    "    lgb_params = {\n",
    "                'objective': 'regression',\n",
    "                'boosting_type': 'gbdt',\n",
    "                'learning_rate': .1,\n",
    "                'subsample': 0.8,\n",
    "                'colsample_bytree': 0.8,\n",
    "                'num_leaves': 31,\n",
    "                'max_depth': -1,\n",
    "                'seed': 13,\n",
    "                'n_jobs': 8,\n",
    "                'min_split_gain': .00001,\n",
    "                'reg_alpha': .00001,\n",
    "                'reg_lambda': .00001,\n",
    "                'metric': 'rmse'\n",
    "                }\n",
    "\n",
    "    # Fit the model\n",
    "    hist = lgb.train(\n",
    "                params=lgb_params, \n",
    "                train_set=dtrain,\n",
    "                valid_sets= [dtrain, dvalid],\n",
    "                num_boost_round=3000,\n",
    "                categorical_feature=catCols,\n",
    "                early_stopping_rounds=100,\n",
    "                verbose_eval=100)\n",
    "    \n",
    "    \n",
    "    train_res.append(hist.best_score['training']['rmse'])\n",
    "    valid_res.append(hist.best_score['valid_1']['rmse'])"
   ]
  },
  {
   "cell_type": "code",
   "execution_count": 23,
   "metadata": {},
   "outputs": [
    {
     "data": {
      "text/plain": [
       "(0.10531301843891668, 0.010107577641104)"
      ]
     },
     "execution_count": 23,
     "metadata": {},
     "output_type": "execute_result"
    }
   ],
   "source": [
    "np.mean(train_res), np.std(train_res)"
   ]
  },
  {
   "cell_type": "code",
   "execution_count": 24,
   "metadata": {},
   "outputs": [
    {
     "data": {
      "text/plain": [
       "(0.1831274282261277, 0.09237593381215047)"
      ]
     },
     "execution_count": 24,
     "metadata": {},
     "output_type": "execute_result"
    }
   ],
   "source": [
    "np.mean(valid_res), np.std(valid_res)"
   ]
  },
  {
   "cell_type": "code",
   "execution_count": 26,
   "metadata": {
    "scrolled": true
   },
   "outputs": [
    {
     "data": {
      "text/plain": [
       "<matplotlib.axes._subplots.AxesSubplot at 0x2058093c0c8>"
      ]
     },
     "execution_count": 26,
     "metadata": {},
     "output_type": "execute_result"
    },
    {
     "data": {
      "image/png": "[encoded data removed]",
      "text/plain": [
       "<Figure size 432x288 with 1 Axes>"
      ]
     },
     "metadata": {
      "needs_background": "light"
     },
     "output_type": "display_data"
    }
   ],
   "source": [
    "lgb.plot_importance(hist)"
   ]
  },
  {
   "cell_type": "code",
   "execution_count": 14,
   "metadata": {},
   "outputs": [],
   "source": [
    "oot = all_df[all_df['Sales'].isnull()]\n",
    "train = all_df[~all_df['Sales'].isnull()]\n",
    "train = train[~train.Month.isin([12,1,4])]"
   ]
  },
  {
   "cell_type": "code",
   "execution_count": 15,
   "metadata": {},
   "outputs": [
    {
     "name": "stderr",
     "output_type": "stream",
     "text": [
      "C:\\ProgramData\\Anaconda3\\lib\\site-packages\\lightgbm\\basic.py:1295: UserWarning: categorical_feature in Dataset is overridden.\n",
      "New categorical_feature is ['Course_Domain', 'Course_ID', 'Course_Type']\n",
      "  'New categorical_feature is {}'.format(sorted(list(categorical_feature))))\n"
     ]
    },
    {
     "name": "stdout",
     "output_type": "stream",
     "text": [
      "Training until validation scores don't improve for 100 rounds\n",
      "[100]\ttraining's rmse: 0.12743\n",
      "[200]\ttraining's rmse: 0.114359\n",
      "[300]\ttraining's rmse: 0.108087\n",
      "[400]\ttraining's rmse: 0.102417\n",
      "[500]\ttraining's rmse: 0.0986775\n",
      "[600]\ttraining's rmse: 0.0962775\n",
      "[700]\ttraining's rmse: 0.0941399\n",
      "[800]\ttraining's rmse: 0.0924225\n",
      "[900]\ttraining's rmse: 0.0911499\n",
      "[1000]\ttraining's rmse: 0.0898794\n",
      "[1100]\ttraining's rmse: 0.0888277\n",
      "[1200]\ttraining's rmse: 0.0878446\n",
      "[1300]\ttraining's rmse: 0.086771\n",
      "[1400]\ttraining's rmse: 0.0855014\n",
      "[1500]\ttraining's rmse: 0.0845255\n",
      "[1600]\ttraining's rmse: 0.0836066\n",
      "[1700]\ttraining's rmse: 0.0829254\n",
      "[1800]\ttraining's rmse: 0.0822775\n",
      "[1900]\ttraining's rmse: 0.0816465\n",
      "[2000]\ttraining's rmse: 0.0808891\n",
      "[2100]\ttraining's rmse: 0.0803294\n",
      "[2200]\ttraining's rmse: 0.0797343\n",
      "[2300]\ttraining's rmse: 0.0790406\n",
      "[2400]\ttraining's rmse: 0.0784221\n",
      "[2500]\ttraining's rmse: 0.0778458\n",
      "[2600]\ttraining's rmse: 0.0773696\n",
      "[2700]\ttraining's rmse: 0.0769044\n",
      "[2800]\ttraining's rmse: 0.0764286\n",
      "[2900]\ttraining's rmse: 0.0758808\n",
      "[3000]\ttraining's rmse: 0.0754027\n",
      "Did not meet early stopping. Best iteration is:\n",
      "[3000]\ttraining's rmse: 0.0754027\n"
     ]
    },
    {
     "name": "stderr",
     "output_type": "stream",
     "text": [
      "C:\\ProgramData\\Anaconda3\\lib\\site-packages\\ipykernel_launcher.py:28: SettingWithCopyWarning: \n",
      "A value is trying to be set on a copy of a slice from a DataFrame.\n",
      "Try using .loc[row_indexer,col_indexer] = value instead\n",
      "\n",
      "See the caveats in the documentation: http://pandas.pydata.org/pandas-docs/stable/user_guide/indexing.html#returning-a-view-versus-a-copy\n",
      "C:\\ProgramData\\Anaconda3\\lib\\site-packages\\ipykernel_launcher.py:29: SettingWithCopyWarning: \n",
      "A value is trying to be set on a copy of a slice from a DataFrame.\n",
      "Try using .loc[row_indexer,col_indexer] = value instead\n",
      "\n",
      "See the caveats in the documentation: http://pandas.pydata.org/pandas-docs/stable/user_guide/indexing.html#returning-a-view-versus-a-copy\n"
     ]
    }
   ],
   "source": [
    "dtrain = lgb.Dataset(train[trainCols], train[target], free_raw_data=False, silent=True)\n",
    "lgb_params = {\n",
    "            'objective': 'regression',\n",
    "            'boosting_type': 'gbdt',\n",
    "            'learning_rate': .1,\n",
    "            'subsample': 0.8,\n",
    "            'colsample_bytree': 0.8,\n",
    "            'num_leaves': 31,\n",
    "            'max_depth': -1,\n",
    "            'seed': 13,\n",
    "            'n_jobs': 8,\n",
    "            'min_split_gain': .00001,\n",
    "            'reg_alpha': .00001,\n",
    "            'reg_lambda': .00001,\n",
    "            'metric': 'rmse'\n",
    "            }\n",
    "# Fit the model\n",
    "oot_model = lgb.train(\n",
    "            params=lgb_params, \n",
    "            train_set=dtrain,\n",
    "            valid_sets= [dtrain],\n",
    "            num_boost_round=3000,\n",
    "            categorical_feature=catCols,\n",
    "            early_stopping_rounds=100,\n",
    "            verbose_eval=100)\n",
    "\n",
    "pred = oot_model.predict(oot[trainCols])\n",
    "oot['Sales'] = pred\n",
    "oot['Sales'] = np.expm1(oot['Sales'])\n",
    "oot[['ID', 'Sales']].to_csv('subm_base.csv', index = False)"
   ]
  },
  {
   "cell_type": "code",
   "execution_count": 8,
   "metadata": {},
   "outputs": [
    {
     "name": "stderr",
     "output_type": "stream",
     "text": [
      "The default dtype for empty Series will be 'object' instead of 'float64' in a future version. Specify a dtype explicitly to silence this warning.\n"
     ]
    }
   ],
   "source": [
    "all_df['User_Traffic'] = all_df.groupby('Course_ID')['User_Traffic'].transform(lambda x : x.rolling(7).mean())\n",
    "all_df['User_Traffic'] = np.log1p(all_df['User_Traffic'])\n",
    "pred_user_traffic = pd.Series(index = all_df.index, data = None)"
   ]
  },
  {
   "cell_type": "code",
   "execution_count": 10,
   "metadata": {
    "scrolled": false
   },
   "outputs": [
    {
     "name": "stderr",
     "output_type": "stream",
     "text": [
      "categorical_feature in Dataset is overridden.\n",
      "New categorical_feature is ['Course_Domain', 'Course_ID', 'Course_Type']\n"
     ]
    },
    {
     "name": "stdout",
     "output_type": "stream",
     "text": [
      "Done Till 942\n",
      "Entered OOT Phase\n"
     ]
    }
   ],
   "source": [
    "train_period = (0,60)\n",
    "pred_period = (61,120)\n",
    "\n",
    "## Some manual intervention required to make for OOT. \n",
    "\n",
    "while(True):\n",
    "    if pred_period[0] >= 942: continue\n",
    "    day_train_start = train_period[0]\n",
    "    day_train_end = train_period[1]\n",
    "    day_valid_start = pred_period[0]\n",
    "    day_valid_end = pred_period[1]\n",
    "    \n",
    "    tr = all_df.query(f\"(Day_No <= {day_train_end}) & (Day_No >= {day_train_start})\")\n",
    "    pred = all_df.query(f\"(Day_No <= {day_valid_end}) & (Day_No >= {day_valid_start})\")\n",
    "    \n",
    "    dtrain = lgb.Dataset(tr[trainCols], tr['User_Traffic'], free_raw_data=False, silent=True)\n",
    "    dvalid = lgb.Dataset(pred[trainCols], pred['User_Traffic'], free_raw_data=False, silent=True)\n",
    "    \n",
    "    lgb_params = {\n",
    "                'objective': 'regression',\n",
    "                'boosting_type': 'gbdt',\n",
    "                'learning_rate': .1,\n",
    "                'subsample': 0.8,\n",
    "                'colsample_bytree': 0.8,\n",
    "                'num_leaves': 31,\n",
    "                'max_depth': -1,\n",
    "                'seed': 13,\n",
    "                'n_jobs': 8,\n",
    "                'min_split_gain': .00001,\n",
    "                'reg_alpha': .00001,\n",
    "                'reg_lambda': .00001,\n",
    "                'metric': 'rmse'\n",
    "                }\n",
    "\n",
    "    # Fit the model\n",
    "    hist = lgb.train(\n",
    "                params=lgb_params, \n",
    "                train_set=dtrain,\n",
    "                valid_sets= [dtrain],\n",
    "                num_boost_round=3000,\n",
    "                categorical_feature=catCols,\n",
    "                early_stopping_rounds=100,\n",
    "                verbose_eval=0)\n",
    "    \n",
    "    prediction = hist.predict(pred[trainCols])\n",
    "    \n",
    "    try:\n",
    "        print(f\"RMSE : {mean_squared_error(pred['User_Traffic'], prediction)}\")\n",
    "    except:\n",
    "        print(f\"Done Till {pred_period[1]}\")\n",
    "        print(\"Entered OOT Phase\")\n",
    "        pred_user_traffic.iloc[pred.index] = prediction\n",
    "        break\n",
    "    \n",
    "    pred_user_traffic.iloc[pred.index] = prediction\n",
    "    \n",
    "    print(f\"Done Till {pred_period[1]}\")\n",
    "    train_period = (0, train_period[1] + 60)\n",
    "    pred_period = (train_period[1] + 1, train_period[1] + 60)"
   ]
  },
  {
   "cell_type": "code",
   "execution_count": null,
   "metadata": {},
   "outputs": [],
   "source": []
  },
  {
   "cell_type": "code",
   "execution_count": 11,
   "metadata": {},
   "outputs": [
    {
     "data": {
      "text/plain": [
       "0              NaN\n",
       "1              NaN\n",
       "2              NaN\n",
       "3              NaN\n",
       "4              NaN\n",
       "            ...   \n",
       "548082    8.957769\n",
       "548083    8.964530\n",
       "548084    9.057988\n",
       "548085    9.111396\n",
       "548086    9.098207\n",
       "Length: 548087, dtype: float64"
      ]
     },
     "execution_count": 11,
     "metadata": {},
     "output_type": "execute_result"
    }
   ],
   "source": [
    "pred_user_traffic"
   ]
  },
  {
   "cell_type": "code",
   "execution_count": 12,
   "metadata": {},
   "outputs": [],
   "source": [
    "temp = all_df[['ID', 'Course_ID','User_Traffic']]"
   ]
  },
  {
   "cell_type": "code",
   "execution_count": 13,
   "metadata": {},
   "outputs": [
    {
     "name": "stderr",
     "output_type": "stream",
     "text": [
      "\n",
      "A value is trying to be set on a copy of a slice from a DataFrame.\n",
      "Try using .loc[row_indexer,col_indexer] = value instead\n",
      "\n",
      "See the caveats in the documentation: https://pandas.pydata.org/pandas-docs/stable/user_guide/indexing.html#returning-a-view-versus-a-copy\n"
     ]
    }
   ],
   "source": [
    "temp['User_Traffic_rolled_predicted'] = pred_user_traffic"
   ]
  },
  {
   "cell_type": "code",
   "execution_count": 14,
   "metadata": {},
   "outputs": [],
   "source": [
    "temp_cid = temp.query('Course_ID == 544')"
   ]
  },
  {
   "cell_type": "code",
   "execution_count": null,
   "metadata": {},
   "outputs": [],
   "source": []
  },
  {
   "cell_type": "code",
   "execution_count": 15,
   "metadata": {},
   "outputs": [],
   "source": [
    "temp.to_csv('user_traffic_pred.csv', index = False)"
   ]
  },
  {
   "cell_type": "code",
   "execution_count": null,
   "metadata": {},
   "outputs": [],
   "source": []
  }
 ],
 "metadata": {
  "kernelspec": {
   "display_name": "Python 3",
   "language": "python",
   "name": "python3"
  },
  "language_info": {
   "codemirror_mode": {
    "name": "ipython",
    "version": 3
   },
   "file_extension": ".py",
   "mimetype": "text/x-python",
   "name": "python",
   "nbconvert_exporter": "python",
   "pygments_lexer": "ipython3",
   "version": "3.7.4"
  }
 },
 "nbformat": 4,
 "nbformat_minor": 4
}
