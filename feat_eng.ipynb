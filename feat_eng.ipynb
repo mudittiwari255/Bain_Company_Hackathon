{
 "cells": [
  {
   "cell_type": "code",
   "execution_count": 7,
   "metadata": {},
   "outputs": [],
   "source": [
    "import pandas as pd \n",
    "import numpy as np \n",
    "import matplotlib.pyplot as plt"
   ]
  },
  {
   "cell_type": "code",
   "execution_count": 8,
   "metadata": {},
   "outputs": [],
   "source": [
    "train_df = pd.read_csv('input/train.csv')\n",
    "test_df = pd.read_csv('input/test_QkPvNLx.csv')"
   ]
  },
  {
   "cell_type": "code",
   "execution_count": 9,
   "metadata": {},
   "outputs": [
    {
     "name": "stderr",
     "output_type": "stream",
     "text": [
      "C:\\ProgramData\\Anaconda3\\lib\\site-packages\\pandas\\core\\frame.py:7123: FutureWarning: Sorting because non-concatenation axis is not aligned. A future version\n",
      "of pandas will change to not sort by default.\n",
      "\n",
      "To accept the future behavior, pass 'sort=False'.\n",
      "\n",
      "To retain the current behavior and silence the warning, pass 'sort=True'.\n",
      "\n",
      "  sort=sort,\n"
     ]
    }
   ],
   "source": [
    "all_df = train_df.append(test_df)"
   ]
  },
  {
   "cell_type": "code",
   "execution_count": 70,
   "metadata": {},
   "outputs": [],
   "source": [
    "get_end_limit = lambda x : x - 60\n",
    "\n",
    "def add_median(x, day_index_df, col_name, period, tech = 0):\n",
    "    el = get_end_limit(x)\n",
    "    day_index_df = day_index_df[:el]\n",
    "    if x < period[1]*7:\n",
    "        return np.nan\n",
    "    else:\n",
    "        temp = day_index_df[:x]\n",
    "    if tech == 0:\n",
    "        return np.median(temp)\n",
    "    else:\n",
    "        if 7*period[0] == 0:\n",
    "            return np.median(temp[-7*period[1]:])\n",
    "        return np.median(temp[-7*period[1]:-7*period[0]])\n",
    "\n",
    "def add_mean(x, day_index_df, col_name, period, tech = 0):\n",
    "    el = get_end_limit(x)\n",
    "    day_index_df = day_index_df[:el]\n",
    "    if x < period[1]*7:\n",
    "        return np.nan\n",
    "    else:\n",
    "        temp = day_index_df[:x]\n",
    "    if tech == 0:\n",
    "        return np.mean(temp)\n",
    "    else:\n",
    "        if 7*period[0] == 0:\n",
    "            return np.mean(temp[-7*period[1]:])\n",
    "        return np.mean(temp[-7*period[1]:-7*period[0]])\n",
    "\n",
    "def make_feats(temp, col = 'Sales'):\n",
    "    temp2 = temp.copy()\n",
    "    day_toend_day_map = {x : get_end_limit(x) for x in temp2.Day_No}\n",
    "    temp2.set_index('Day_No', drop = False, inplace = True)\n",
    "\n",
    "    periods = [(0,1), (0,2), (0,3), (0,5), (0,8), (0,13), (0,21)]\n",
    "    temp[f'{col}_median_60_lag'] = temp['Day_No'].apply(lambda x : add_median(x,\n",
    "                                                                          temp2[col].values, col, (0,1/7), tech = 0))\n",
    "    temp[f'{col}_mean_60_lag'] = temp['Day_No'].apply(lambda x : add_mean(x,\n",
    "                                                                          temp2[col].values, col, (0,1/7), tech = 0))\n",
    "    for p in periods:\n",
    "       \n",
    "        c_mean = f'{col}_mean_{p[0]}_{p[1]}'\n",
    "        c_median = f'{col}_median_{p[0]}_{p[1]}'\n",
    "       \n",
    "        temp[c_mean] = temp['Day_No'].apply(lambda x : add_mean(x, temp2[col].values, col, p, tech =1))\n",
    "        temp[c_median] = temp['Day_No'].apply(lambda x : add_median(x,\n",
    "                                                       temp2[col].values, col, p, tech =1))\n",
    "    return temp\n"
   ]
  },
  {
   "cell_type": "code",
   "execution_count": 77,
   "metadata": {
    "scrolled": true
   },
   "outputs": [
    {
     "name": "stderr",
     "output_type": "stream",
     "text": [
      "C:\\ProgramData\\Anaconda3\\lib\\site-packages\\numpy\\core\\fromnumeric.py:3118: RuntimeWarning: Mean of empty slice.\n",
      "  out=out, **kwargs)\n",
      "C:\\ProgramData\\Anaconda3\\lib\\site-packages\\ipykernel_launcher.py:37: SettingWithCopyWarning: \n",
      "A value is trying to be set on a copy of a slice from a DataFrame.\n",
      "Try using .loc[row_indexer,col_indexer] = value instead\n",
      "\n",
      "See the caveats in the documentation: http://pandas.pydata.org/pandas-docs/stable/user_guide/indexing.html#returning-a-view-versus-a-copy\n",
      "C:\\ProgramData\\Anaconda3\\lib\\site-packages\\ipykernel_launcher.py:39: SettingWithCopyWarning: \n",
      "A value is trying to be set on a copy of a slice from a DataFrame.\n",
      "Try using .loc[row_indexer,col_indexer] = value instead\n",
      "\n",
      "See the caveats in the documentation: http://pandas.pydata.org/pandas-docs/stable/user_guide/indexing.html#returning-a-view-versus-a-copy\n",
      "C:\\ProgramData\\Anaconda3\\lib\\site-packages\\ipykernel_launcher.py:46: SettingWithCopyWarning: \n",
      "A value is trying to be set on a copy of a slice from a DataFrame.\n",
      "Try using .loc[row_indexer,col_indexer] = value instead\n",
      "\n",
      "See the caveats in the documentation: http://pandas.pydata.org/pandas-docs/stable/user_guide/indexing.html#returning-a-view-versus-a-copy\n",
      "C:\\ProgramData\\Anaconda3\\lib\\site-packages\\ipykernel_launcher.py:47: SettingWithCopyWarning: \n",
      "A value is trying to be set on a copy of a slice from a DataFrame.\n",
      "Try using .loc[row_indexer,col_indexer] = value instead\n",
      "\n",
      "See the caveats in the documentation: http://pandas.pydata.org/pandas-docs/stable/user_guide/indexing.html#returning-a-view-versus-a-copy\n",
      "C:\\ProgramData\\Anaconda3\\lib\\site-packages\\numpy\\lib\\function_base.py:3405: RuntimeWarning: Invalid value encountered in median\n",
      "  r = func(a, **kwargs)\n"
     ]
    }
   ],
   "source": [
    "made_feats = []\n",
    "for i, v in all_df.groupby('Course_ID'):\n",
    "    made_feats.append(make_feats(v))"
   ]
  },
  {
   "cell_type": "code",
   "execution_count": 78,
   "metadata": {},
   "outputs": [],
   "source": [
    "made_feats_df = pd.concat(made_feats)"
   ]
  },
  {
   "cell_type": "code",
   "execution_count": 82,
   "metadata": {},
   "outputs": [],
   "source": [
    "made_feats_df[['Sales_median_60_lag',\n",
    "       'Sales_mean_60_lag', 'Sales_mean_0_1', 'Sales_median_0_1',\n",
    "       'Sales_mean_0_2', 'Sales_median_0_2', 'Sales_mean_0_3',\n",
    "       'Sales_median_0_3', 'Sales_mean_0_5', 'Sales_median_0_5',\n",
    "       'Sales_mean_0_8', 'Sales_median_0_8', 'Sales_mean_0_13',\n",
    "       'Sales_median_0_13', 'Sales_mean_0_21', 'Sales_median_0_21', 'ID']].to_csv('fib_med_feats.csv', index = False)"
   ]
  },
  {
   "cell_type": "code",
   "execution_count": null,
   "metadata": {},
   "outputs": [],
   "source": []
  }
 ],
 "metadata": {
  "kernelspec": {
   "display_name": "Python 3",
   "language": "python",
   "name": "python3"
  },
  "language_info": {
   "codemirror_mode": {
    "name": "ipython",
    "version": 3
   },
   "file_extension": ".py",
   "mimetype": "text/x-python",
   "name": "python",
   "nbconvert_exporter": "python",
   "pygments_lexer": "ipython3",
   "version": "3.7.4"
  }
 },
 "nbformat": 4,
 "nbformat_minor": 2
}
